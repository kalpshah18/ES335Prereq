{
  "cells": [
    {
      "cell_type": "markdown",
      "id": "d0b87817",
      "metadata": {
        "id": "d0b87817"
      },
      "source": [
        "# Prerequisite Test\n",
        "\n",
        "Kalp Shah, 24110152\n",
        "\n",
        "kalp.shah@iitgn.ac.in"
      ]
    },
    {
      "cell_type": "markdown",
      "id": "60da735e",
      "metadata": {
        "id": "60da735e"
      },
      "source": [
        "## Imports"
      ]
    },
    {
      "cell_type": "code",
      "execution_count": 5,
      "id": "e713fb0b",
      "metadata": {
        "id": "e713fb0b"
      },
      "outputs": [],
      "source": [
        "import time\n",
        "import numpy as np\n",
        "import random\n",
        "import pandas as pd\n",
        "import matplotlib.pyplot as plt\n",
        "import seaborn as sns\n",
        "import torch\n",
        "import jax.numpy as jnp\n",
        "from jax import grad\n",
        "import sympy as sp\n",
        "from sympy.utilities.lambdify import lambdify"
      ]
    },
    {
      "cell_type": "markdown",
      "id": "f84419c5",
      "metadata": {
        "id": "f84419c5"
      },
      "source": [
        "## Question 1\n",
        "How many multiplications and additions do you need to perform a matrix multiplication between a (n, k) and (k, m) matrix? Explain."
      ]
    },
    {
      "cell_type": "markdown",
      "id": "29d3aa0a",
      "metadata": {
        "id": "29d3aa0a"
      },
      "source": [
        "To multiply a matrix A of shape (n, k) with a matrix B of shape (k, m), you get a resulting matrix C of shape (n, m).\n",
        "\n",
        "Each element of the result matrix C<sub>i,j</sub> is computed as:​\n",
        "$$\n",
        "C_{i,j} = \\sum_{l=1}^{k} A_{i,l} \\cdot B_{l,j}\n",
        "$$\n",
        "This involves: k multiplications for each element of C and (k – 1) additions to sum those products. The final number of multiplications will be n * m * k and the final number of additions will be n * m * (k - 1)."
      ]
    },
    {
      "cell_type": "markdown",
      "id": "8e324db9",
      "metadata": {
        "id": "8e324db9"
      },
      "source": [
        "## Question 2\n",
        "Write Python code to multiply the above two matrices. Solve using list of lists and then use numpy. Compare the timing of both solutions. Which one is faster? Why?"
      ]
    },
    {
      "cell_type": "code",
      "execution_count": null,
      "id": "7a94e70f",
      "metadata": {
        "colab": {
          "base_uri": "https://localhost:8080/"
        },
        "id": "7a94e70f",
        "outputId": "8069bf16-b243-408a-a1c4-9cc5d26f2d5a"
      },
      "outputs": [
        {
          "output_type": "stream",
          "name": "stdout",
          "text": [
            "Creating test matrices...\n",
            "Matrix dimensions: A(300×200) × B(200×250)\n",
            "\n",
            "Timing list-based multiplication...\n",
            "List-based multiplication time: 2.5855 seconds\n",
            "\n",
            "Timing numpy multiplication...\n",
            "Numpy multiplication time: 0.0068 seconds\n",
            "\n",
            "Speed comparison:\n",
            "Numpy is 378.7x faster than list-based approach\n"
          ]
        }
      ],
      "source": [
        "n, k, m = 300, 200, 250\n",
        "\n",
        "def matrix_multiply_lists(A, B):\n",
        "    n = len(A)\n",
        "    k = len(A[0])\n",
        "    m = len(B[0])\n",
        "    C = [[0 for _ in range(m)] for _ in range(n)]\n",
        "    for i in range(n):\n",
        "        for j in range(m):\n",
        "            for p in range(k):\n",
        "                C[i][j] += A[i][p] * B[p][j]\n",
        "\n",
        "    return C\n",
        "\n",
        "print(\"Creating test matrices...\")\n",
        "A_list = [[random.random() for _ in range(k)] for _ in range(n)]\n",
        "B_list = [[random.random() for _ in range(m)] for _ in range(k)]\n",
        "\n",
        "A_numpy = np.array(A_list)\n",
        "B_numpy = np.array(B_list)\n",
        "\n",
        "print(f\"Matrix dimensions: A({n}×{k}) × B({k}×{m})\")\n",
        "\n",
        "print(\"\\nTiming list-based multiplication...\")\n",
        "start_time = time.time()\n",
        "C_list = matrix_multiply_lists(A_list, B_list)\n",
        "list_time = time.time() - start_time\n",
        "print(f\"List-based multiplication time: {list_time:.4f} seconds\")\n",
        "\n",
        "print(\"\\nTiming numpy multiplication...\")\n",
        "start_time = time.time()\n",
        "C_numpy = np.dot(A_numpy, B_numpy)\n",
        "numpy_time = time.time() - start_time\n",
        "print(f\"Numpy multiplication time: {numpy_time:.4f} seconds\")\n",
        "\n",
        "print(f\"\\nSpeed comparison:\")\n",
        "if numpy_time > 0:\n",
        "    print(f\"Numpy is {list_time/numpy_time:.1f}x faster than list-based approach\")\n",
        "else:\n",
        "    print(\"Numpy execution was too fast to measure accurately\")"
      ]
    },
    {
      "cell_type": "markdown",
      "id": "c7997941",
      "metadata": {
        "id": "c7997941"
      },
      "source": [
        "Numpy is Much more Faster because:\n",
        "1. Optimized C Implementations\n",
        "2. Vectorized Operations\n",
        "3. Bettor Memory Management\n",
        "4. Uses Caching"
      ]
    },
    {
      "cell_type": "markdown",
      "id": "b3b44d91",
      "metadata": {
        "id": "b3b44d91"
      },
      "source": [
        "## Question 3\n",
        "Finding the highest element in a list requires one pass of the array. Finding the second highest element requires 2 passes of the array. Using this method, what is the time complexity of finding the median of the array? Can you suggest a better method? Can you implement both these methods in Python and compare against numpy.median routine in terms of time?"
      ]
    },
    {
      "cell_type": "markdown",
      "id": "02aa25fb",
      "metadata": {
        "id": "02aa25fb"
      },
      "source": [
        "Using the given method, the time complexity of finding the median of the Array is of the order: $$ O(n^2) $$ A Better Method would be to sort the Array and directly access the element at the index n/2. This Method would have a Time Complexity of $$ O(n * logn) $$"
      ]
    },
    {
      "cell_type": "code",
      "execution_count": null,
      "id": "de0093e7",
      "metadata": {
        "colab": {
          "base_uri": "https://localhost:8080/"
        },
        "id": "de0093e7",
        "outputId": "d3c94aeb-5595-40d5-e6a4-8e897d05c870"
      },
      "outputs": [
        {
          "output_type": "stream",
          "name": "stdout",
          "text": [
            "Array length: 5648\n",
            "Multiple passes median: 502.0\n",
            "Sorting median: 502.0\n",
            "NumPy median: 502.0\n",
            "\n",
            "Timing comparison:\n",
            "Multiple passes: 0.5327s\n",
            "Sorting: 0.0010s\n",
            "NumPy: 0.0006s\n"
          ]
        }
      ],
      "source": [
        "arr = [random.randint(1, 1000) for _ in range(random.randint(1000, 10000))]\n",
        "\n",
        "print(f\"Array length: {len(arr)}\")\n",
        "\n",
        "# Method 1: O(n^2) approach - finding median by removing highest elements\n",
        "def median_multiple_passes(arr):\n",
        "    n = len(arr)\n",
        "    if n % 2 == 1:\n",
        "        temp_arr = arr.copy()\n",
        "        for i in range((n + 1) // 2):\n",
        "            if not temp_arr:\n",
        "                return None\n",
        "            max_val = max(temp_arr)\n",
        "            temp_arr.remove(max_val)\n",
        "        return max_val\n",
        "    else:\n",
        "        temp_arr1 = arr.copy()\n",
        "        for i in range(n // 2):\n",
        "            if not temp_arr1:\n",
        "                return None\n",
        "            max_val1 = max(temp_arr1)\n",
        "            temp_arr1.remove(max_val1)\n",
        "        val1 = max_val1\n",
        "        temp_arr2 = arr.copy()\n",
        "        for i in range(n // 2 + 1):\n",
        "            if not temp_arr2:\n",
        "                return None\n",
        "            max_val2 = max(temp_arr2)\n",
        "            temp_arr2.remove(max_val2)\n",
        "        val2 = max_val2\n",
        "\n",
        "        return (val1 + val2) / 2\n",
        "\n",
        "# Method 2: Sorting approach O(n log n)\n",
        "def median_sorting(arr):\n",
        "    sorted_arr = sorted(arr)\n",
        "    n = len(sorted_arr)\n",
        "    if n % 2 == 1:\n",
        "        return sorted_arr[n // 2]\n",
        "    else:\n",
        "        return (sorted_arr[n // 2 - 1] + sorted_arr[n // 2]) / 2\n",
        "\n",
        "median1 = median_multiple_passes(arr)\n",
        "median2 = median_sorting(arr)\n",
        "median3 = np.median(arr)\n",
        "\n",
        "print(f\"Multiple passes median: {median1}\")\n",
        "print(f\"Sorting median: {median2}\")\n",
        "print(f\"NumPy median: {median3}\")\n",
        "\n",
        "print(\"\\nTiming comparison:\")\n",
        "start = time.time()\n",
        "median_multiple_passes(arr)\n",
        "time1 = time.time() - start\n",
        "start = time.time()\n",
        "median_sorting(arr)\n",
        "time2 = time.time() - start\n",
        "start = time.time()\n",
        "np.median(arr)\n",
        "time3 = time.time() - start\n",
        "\n",
        "print(f\"Multiple passes: {time1:.4f}s\")\n",
        "print(f\"Sorting: {time2:.4f}s\")\n",
        "print(f\"NumPy: {time3:.4f}s\")"
      ]
    },
    {
      "cell_type": "markdown",
      "source": [
        "## Question 4\n",
        "What is the gradient of the following function with respect to x and y?\n",
        "\n",
        "$$x^2 y + y^3 \\sin(x)$$"
      ],
      "metadata": {
        "id": "vz27wSPZx8uA"
      },
      "id": "vz27wSPZx8uA"
    },
    {
      "cell_type": "markdown",
      "source": [
        "Let f denote the function given above\n",
        "$$\\frac{\\partial f}{\\partial x} = 2xy + y^3 \\cos(x)$$"
      ],
      "metadata": {
        "id": "Hi40GcOTyNlj"
      },
      "id": "Hi40GcOTyNlj"
    },
    {
      "cell_type": "markdown",
      "source": [
        "## Question 5 and 6\n",
        "Use JAX to confirm the gradient evaluated by your method matches the analytical solution corresponding to a few random values of x and y.\n",
        "\n",
        "Use sympy to confirm that you obtain the same gradient analytically."
      ],
      "metadata": {
        "id": "N4rs4J-nyvQD"
      },
      "id": "N4rs4J-nyvQD"
    },
    {
      "cell_type": "code",
      "source": [
        "x_sym, y_sym = sp.symbols('x y')\n",
        "f_sym = x_sym**2 * y_sym + y_sym**3 * sp.sin(x_sym)\n",
        "df_dx_sym = sp.diff(f_sym, x_sym)\n",
        "analytical_df_dx = lambdify((x_sym, y_sym), df_dx_sym, modules='numpy')\n",
        "\n",
        "def f(x, y):\n",
        "    return x**2 * y + y**3 * jnp.sin(x)\n",
        "\n",
        "df_dx_jax = grad(f, argnums=0)\n",
        "rng = np.random.default_rng(0)\n",
        "\n",
        "for _ in range(5):\n",
        "    x = float(rng.uniform(-5, 5))\n",
        "    y = float(rng.uniform(-5, 5))\n",
        "    jax_val = df_dx_jax(x, y)\n",
        "    sympy_val = analytical_df_dx(x, y)\n",
        "    print(f\"x = {x:.3f}, y = {y:.3f} | JAX: {jax_val:.6f}, SymPy: {sympy_val:.6f}, Match: {np.allclose(jax_val, sympy_val)}\")"
      ],
      "metadata": {
        "colab": {
          "base_uri": "https://localhost:8080/"
        },
        "id": "0aNjZTf9y1Cm",
        "outputId": "07b1b48f-cdf8-4c1e-c3db-780c7e743cbb"
      },
      "id": "0aNjZTf9y1Cm",
      "execution_count": null,
      "outputs": [
        {
          "output_type": "stream",
          "name": "stdout",
          "text": [
            "x = 1.370, y = -2.302 | JAX: -8.744123, SymPy: -8.744123, Match: True\n",
            "x = -4.590, y = -4.835 | JAX: 58.152237, SymPy: 58.152240, Match: True\n",
            "x = 3.133, y = 4.128 | JAX: -44.456413, SymPy: -44.456412, Match: True\n",
            "x = 1.066, y = 2.295 | JAX: 10.736485, SymPy: 10.736484, Match: True\n",
            "x = 0.436, y = 4.351 | JAX: 78.436943, SymPy: 78.436941, Match: True\n"
          ]
        }
      ]
    },
    {
      "cell_type": "markdown",
      "source": [
        "## Question 7\n",
        "Create a Python nested dictionary to represent hierarchical information. We want to store record of students and their marks. Something like:\n",
        "```\n",
        "2022\n",
        "  Branch 1\n",
        "    Roll Number: 1, Name: N, Marks:\n",
        "      Maths: 100, English: 70 …\n",
        "  Branch 2\n",
        "2023\n",
        "  Branch 1\n",
        "  Branch 2\n",
        "2024\n",
        "  Branch 1\n",
        "  Branch 2\n",
        "2025\n",
        "  Branch 1\n",
        "  Branch 2\n",
        "```"
      ],
      "metadata": {
        "id": "5TZH9HE24q-b"
      },
      "id": "5TZH9HE24q-b"
    },
    {
      "cell_type": "code",
      "source": [
        "data = {\n",
        "    \"Year\": {\n",
        "        2024: {\n",
        "            \"Electrical Engineering\": [{\n",
        "                \"Roll No\": 24110152,\n",
        "                \"Name\": \"Kalp Pragneshkumar Shah\",\n",
        "                \"Marks\": {\n",
        "                    \"Maths\": 100,\n",
        "                    \"English\": 99,\n",
        "                    \"Physics\": 98,\n",
        "                    \"Chemistry\": 96\n",
        "                }\n",
        "            }],\n",
        "            \"Mechanical Engineering\": [\n",
        "                {\n",
        "                    \"Roll No\": 24110167,\n",
        "                    \"Name\": \"Siya Abhay Kothari\",\n",
        "                    \"Marks\": {\n",
        "                        \"Maths\": 99,\n",
        "                        \"English\": 98,\n",
        "                        \"Physics\": 97,\n",
        "                        \"Chemistry\": 96\n",
        "                    }\n",
        "                },\n",
        "                {\n",
        "                    \"Roll No\": 24110046,\n",
        "                    \"Name\": \"Antara Vivek Donde\",\n",
        "                    \"Marks\": {\n",
        "                        \"Maths\": 50,\n",
        "                        \"English\": 50,\n",
        "                        \"Physics\": 50,\n",
        "                        \"Chemistry\": 50\n",
        "                    }\n",
        "                }\n",
        "            ]\n",
        "        },\n",
        "        2023: {\n",
        "            \"Computer Science and Engineering\": [\n",
        "                {\n",
        "                    \"Roll No\": 22110089,\n",
        "                    \"Name\": \"Guntas Singh Saran\",\n",
        "                    \"Marks\": {\n",
        "                        \"Maths\": 100,\n",
        "                        \"English\": 100,\n",
        "                        \"Physics\": 100,\n",
        "                        \"Chemistry\": 100\n",
        "                    }\n",
        "                }\n",
        "            ]}\n",
        "    }\n",
        "}"
      ],
      "metadata": {
        "id": "qXtvJAZw4wod"
      },
      "id": "qXtvJAZw4wod",
      "execution_count": null,
      "outputs": []
    },
    {
      "cell_type": "markdown",
      "source": [
        "## Question 8\n",
        "\n",
        "Store the same information using Python classes. We have an overall database which is a list of year objects. Each year contains a list of branches. Each branch contains a list of students. Each student has some properties like name, roll number and has marks in some subjects."
      ],
      "metadata": {
        "id": "HJW1_xrH9lyL"
      },
      "id": "HJW1_xrH9lyL"
    },
    {
      "cell_type": "code",
      "source": [
        "class Database:\n",
        "    def __init__(self):\n",
        "        self.yearData = []\n",
        "    def addYear(self, year):\n",
        "        self.yearData.append(year)\n",
        "    def getData(self):\n",
        "        return self.yearData\n",
        "\n",
        "class Year:\n",
        "    def __init__(self, year):\n",
        "        self.year = year\n",
        "        self.branchData = []\n",
        "    def addBranch(self, branch):\n",
        "        self.branchData.append(branch)\n",
        "    def getData(self):\n",
        "        return self.branchData\n",
        "\n",
        "class Branch:\n",
        "    def __init__(self, branchName):\n",
        "        self.branchName = branchName\n",
        "        self.studentData = []\n",
        "    def addStudent(self, student):\n",
        "        self.studentData.append(student)\n",
        "    def getData(self):\n",
        "        return self.studentData\n",
        "\n",
        "class Student:\n",
        "    def __init__(self, rollNo, marks):\n",
        "        self.rollNo = rollNo\n",
        "        self.marks = marks\n",
        "    def getRollNo(self):\n",
        "        return self.rollNo\n",
        "    def getMarks(self):\n",
        "        return self.marks\n",
        "    def getData(self):\n",
        "        return self.rollNo, self.marks"
      ],
      "metadata": {
        "id": "8qLuG040-BQ4"
      },
      "id": "8qLuG040-BQ4",
      "execution_count": 2,
      "outputs": []
    },
    {
      "cell_type": "markdown",
      "source": [
        "## Question 9\n",
        "\n",
        "Using matplotlib, plot the following functions on the domain:  \n",
        "x = 0.5 to 100.0 in steps of 0.5.\n",
        "\n",
        "1. y = x  \n",
        "2. y = x^2  \n",
        "3. y = x^3 / 100  \n",
        "4. y = sin(x)  \n",
        "5. y = sin(x)/x  \n",
        "6. y = log(x)  \n",
        "7. y = e^x\n"
      ],
      "metadata": {
        "id": "kw8eEUNMddah"
      },
      "id": "kw8eEUNMddah"
    },
    {
      "cell_type": "code",
      "source": [
        "x = np.arange(0.5, 100, 0.5)\n",
        "\n",
        "y1 = x\n",
        "y2 = x ** 2\n",
        "y3 = x ** 3 / 100\n",
        "y4 = np.sin(x)\n",
        "y5 = np.sin(x) / x\n",
        "y6 = np.log(x)\n",
        "y7 = np.exp(x)\n",
        "\n",
        "fig, axes = plt.subplots(2, 4, figsize=(16,10))\n",
        "\n",
        "func = [\n",
        "    (y1, 'y = x'),\n",
        "    (y2, 'y = x^2'),\n",
        "    (y3, 'y = x^3 / 100'),\n",
        "    (y4, 'y = sin(x)'),\n",
        "    (y5, 'y = sin(x)/x'),\n",
        "    (y6, 'y = log(x)'),\n",
        "    (y7, 'y = e^x')\n",
        "]\n",
        "\n",
        "for i, (y, label) in enumerate(func):\n",
        "  row = i // 4\n",
        "  col = i % 4\n",
        "  axes[row, col].plot(x, y, linewidth=2)\n",
        "  axes[row, col].set_title(label)\n",
        "  axes[row, col].grid(True)\n",
        "  axes[row, col].set_xlabel('x')\n",
        "  axes[row, col].set_ylabel('y')\n",
        "\n",
        "axes[1,3].axis('off')\n",
        "\n",
        "plt.tight_layout()\n",
        "plt.show()"
      ],
      "metadata": {
        "colab": {
          "base_uri": "https://localhost:8080/",
          "height": 898
        },
        "id": "5PW4QlUReAut",
        "outputId": "6ae8a5cc-f488-4231-a415-d2326f354a3e"
      },
      "id": "5PW4QlUReAut",
      "execution_count": 7,
      "outputs": [
        {
          "output_type": "display_data",
          "data": {
            "text/plain": [
              "<Figure size 1600x1000 with 8 Axes>"
            ],
            "image/png": "[encoded data removed]"
          },
          "metadata": {}
        }
      ]
    },
    {
      "cell_type": "markdown",
      "source": [
        "## Question 10\n",
        "\n",
        "Using numpy generate a matrix of size 20X5 containing random numbers drawn uniformly from the range of 1 to 2. Using Pandas create a dataframe out of this matrix. Name the columns of the dataframe as “a”, “b”, “c”, “d”, “e”. Find the column with the highest standard deviation. Find the row with the lowest mean."
      ],
      "metadata": {
        "id": "VSVQkznRjLjw"
      },
      "id": "VSVQkznRjLjw"
    },
    {
      "cell_type": "code",
      "source": [
        "matrix = torch.distributions.Uniform(1, 2).sample((20, 5)).numpy()\n",
        "df = pd.DataFrame(matrix, columns=['a', 'b', 'c', 'd', 'e'])\n",
        "\n",
        "display(df.head())\n",
        "\n",
        "columnStdDev = df.std()\n",
        "maxColumnStdDev = columnStdDev.idxmax()\n",
        "\n",
        "rowMean = df.mean(axis=1)\n",
        "minRowMean = rowMean.idxmin()\n",
        "\n",
        "print(f\"Column with highest standard deviation: {maxColumnStdDev}\")\n",
        "print(f\"Row with lowest mean: {minRowMean}\")"
      ],
      "metadata": {
        "colab": {
          "base_uri": "https://localhost:8080/",
          "height": 241
        },
        "id": "x_kRzoCWjPF_",
        "outputId": "d4d6d265-17ad-4e5c-b3e7-47e64a4a345d"
      },
      "id": "x_kRzoCWjPF_",
      "execution_count": 18,
      "outputs": [
        {
          "output_type": "display_data",
          "data": {
            "text/plain": [
              "          a         b         c         d         e\n",
              "0  1.638173  1.795034  1.145265  1.229310  1.423163\n",
              "1  1.349449  1.483996  1.928177  1.461056  1.945987\n",
              "2  1.310449  1.920577  1.472286  1.745045  1.704954\n",
              "3  1.268041  1.145484  1.853906  1.461655  1.237534\n",
              "4  1.013472  1.477690  1.904827  1.044468  1.067881"
            ],
            "text/html": [
              "\n",
              "  <div id=\"df-461cf8b8-93cb-463d-bd81-52769624b280\" class=\"colab-df-container\">\n",
              "    <div>\n",
              "<style scoped>\n",
              "    .dataframe tbody tr th:only-of-type {\n",
              "        vertical-align: middle;\n",
              "    }\n",
              "\n",
              "    .dataframe tbody tr th {\n",
              "        vertical-align: top;\n",
              "    }\n",
              "\n",
              "    .dataframe thead th {\n",
              "        text-align: right;\n",
              "    }\n",
              "</style>\n",
              "<table border=\"1\" class=\"dataframe\">\n",
              "  <thead>\n",
              "    <tr style=\"text-align: right;\">\n",
              "      <th></th>\n",
              "      <th>a</th>\n",
              "      <th>b</th>\n",
              "      <th>c</th>\n",
              "      <th>d</th>\n",
              "      <th>e</th>\n",
              "    </tr>\n",
              "  </thead>\n",
              "  <tbody>\n",
              "    <tr>\n",
              "      <th>0</th>\n",
              "      <td>1.638173</td>\n",
              "      <td>1.795034</td>\n",
              "      <td>1.145265</td>\n",
              "      <td>1.229310</td>\n",
              "      <td>1.423163</td>\n",
              "    </tr>\n",
              "    <tr>\n",
              "      <th>1</th>\n",
              "      <td>1.349449</td>\n",
              "      <td>1.483996</td>\n",
              "      <td>1.928177</td>\n",
              "      <td>1.461056</td>\n",
              "      <td>1.945987</td>\n",
              "    </tr>\n",
              "    <tr>\n",
              "      <th>2</th>\n",
              "      <td>1.310449</td>\n",
              "      <td>1.920577</td>\n",
              "      <td>1.472286</td>\n",
              "      <td>1.745045</td>\n",
              "      <td>1.704954</td>\n",
              "    </tr>\n",
              "    <tr>\n",
              "      <th>3</th>\n",
              "      <td>1.268041</td>\n",
              "      <td>1.145484</td>\n",
              "      <td>1.853906</td>\n",
              "      <td>1.461655</td>\n",
              "      <td>1.237534</td>\n",
              "    </tr>\n",
              "    <tr>\n",
              "      <th>4</th>\n",
              "      <td>1.013472</td>\n",
              "      <td>1.477690</td>\n",
              "      <td>1.904827</td>\n",
              "      <td>1.044468</td>\n",
              "      <td>1.067881</td>\n",
              "    </tr>\n",
              "  </tbody>\n",
              "</table>\n",
              "</div>\n",
              "    <div class=\"colab-df-buttons\">\n",
              "\n",
              "  <div class=\"colab-df-container\">\n",
              "    <button class=\"colab-df-convert\" onclick=\"convertToInteractive('df-461cf8b8-93cb-463d-bd81-52769624b280')\"\n",
              "            title=\"Convert this dataframe to an interactive table.\"\n",
              "            style=\"display:none;\">\n",
              "\n",
              "  <svg xmlns=\"http://www.w3.org/2000/svg\" height=\"24px\" viewBox=\"0 -960 960 960\">\n",
              "    <path d=\"M120-120v-720h720v720H120Zm60-500h600v-160H180v160Zm220 220h160v-160H400v160Zm0 220h160v-160H400v160ZM180-400h160v-160H180v160Zm440 0h160v-160H620v160ZM180-180h160v-160H180v160Zm440 0h160v-160H620v160Z\"/>\n",
              "  </svg>\n",
              "    </button>\n",
              "\n",
              "  <style>\n",
              "    .colab-df-container {\n",
              "      display:flex;\n",
              "      gap: 12px;\n",
              "    }\n",
              "\n",
              "    .colab-df-convert {\n",
              "      background-color: #E8F0FE;\n",
              "      border: none;\n",
              "      border-radius: 50%;\n",
              "      cursor: pointer;\n",
              "      display: none;\n",
              "      fill: #1967D2;\n",
              "      height: 32px;\n",
              "      padding: 0 0 0 0;\n",
              "      width: 32px;\n",
              "    }\n",
              "\n",
              "    .colab-df-convert:hover {\n",
              "      background-color: #E2EBFA;\n",
              "      box-shadow: 0px 1px 2px rgba(60, 64, 67, 0.3), 0px 1px 3px 1px rgba(60, 64, 67, 0.15);\n",
              "      fill: #174EA6;\n",
              "    }\n",
              "\n",
              "    .colab-df-buttons div {\n",
              "      margin-bottom: 4px;\n",
              "    }\n",
              "\n",
              "    [theme=dark] .colab-df-convert {\n",
              "      background-color: #3B4455;\n",
              "      fill: #D2E3FC;\n",
              "    }\n",
              "\n",
              "    [theme=dark] .colab-df-convert:hover {\n",
              "      background-color: #434B5C;\n",
              "      box-shadow: 0px 1px 3px 1px rgba(0, 0, 0, 0.15);\n",
              "      filter: drop-shadow(0px 1px 2px rgba(0, 0, 0, 0.3));\n",
              "      fill: #FFFFFF;\n",
              "    }\n",
              "  </style>\n",
              "\n",
              "    <script>\n",
              "      const buttonEl =\n",
              "        document.querySelector('#df-461cf8b8-93cb-463d-bd81-52769624b280 button.colab-df-convert');\n",
              "      buttonEl.style.display =\n",
              "        google.colab.kernel.accessAllowed ? 'block' : 'none';\n",
              "\n",
              "      async function convertToInteractive(key) {\n",
              "        const element = document.querySelector('#df-461cf8b8-93cb-463d-bd81-52769624b280');\n",
              "        const dataTable =\n",
              "          await google.colab.kernel.invokeFunction('convertToInteractive',\n",
              "                                                    [key], {});\n",
              "        if (!dataTable) return;\n",
              "\n",
              "        const docLinkHtml = 'Like what you see? Visit the ' +\n",
              "          '<a target=\"_blank\" href=https://colab.research.google.com/notebooks/data_table.ipynb>data table notebook</a>'\n",
              "          + ' to learn more about interactive tables.';\n",
              "        element.innerHTML = '';\n",
              "        dataTable['output_type'] = 'display_data';\n",
              "        await google.colab.output.renderOutput(dataTable, element);\n",
              "        const docLink = document.createElement('div');\n",
              "        docLink.innerHTML = docLinkHtml;\n",
              "        element.appendChild(docLink);\n",
              "      }\n",
              "    </script>\n",
              "  </div>\n",
              "\n",
              "\n",
              "    <div id=\"df-a7bb4c1a-bbea-4e70-8930-87dff7ac0161\">\n",
              "      <button class=\"colab-df-quickchart\" onclick=\"quickchart('df-a7bb4c1a-bbea-4e70-8930-87dff7ac0161')\"\n",
              "                title=\"Suggest charts\"\n",
              "                style=\"display:none;\">\n",
              "\n",
              "<svg xmlns=\"http://www.w3.org/2000/svg\" height=\"24px\"viewBox=\"0 0 24 24\"\n",
              "     width=\"24px\">\n",
              "    <g>\n",
              "        <path d=\"M19 3H5c-1.1 0-2 .9-2 2v14c0 1.1.9 2 2 2h14c1.1 0 2-.9 2-2V5c0-1.1-.9-2-2-2zM9 17H7v-7h2v7zm4 0h-2V7h2v10zm4 0h-2v-4h2v4z\"/>\n",
              "    </g>\n",
              "</svg>\n",
              "      </button>\n",
              "\n",
              "<style>\n",
              "  .colab-df-quickchart {\n",
              "      --bg-color: #E8F0FE;\n",
              "      --fill-color: #1967D2;\n",
              "      --hover-bg-color: #E2EBFA;\n",
              "      --hover-fill-color: #174EA6;\n",
              "      --disabled-fill-color: #AAA;\n",
              "      --disabled-bg-color: #DDD;\n",
              "  }\n",
              "\n",
              "  [theme=dark] .colab-df-quickchart {\n",
              "      --bg-color: #3B4455;\n",
              "      --fill-color: #D2E3FC;\n",
              "      --hover-bg-color: #434B5C;\n",
              "      --hover-fill-color: #FFFFFF;\n",
              "      --disabled-bg-color: #3B4455;\n",
              "      --disabled-fill-color: #666;\n",
              "  }\n",
              "\n",
              "  .colab-df-quickchart {\n",
              "    background-color: var(--bg-color);\n",
              "    border: none;\n",
              "    border-radius: 50%;\n",
              "    cursor: pointer;\n",
              "    display: none;\n",
              "    fill: var(--fill-color);\n",
              "    height: 32px;\n",
              "    padding: 0;\n",
              "    width: 32px;\n",
              "  }\n",
              "\n",
              "  .colab-df-quickchart:hover {\n",
              "    background-color: var(--hover-bg-color);\n",
              "    box-shadow: 0 1px 2px rgba(60, 64, 67, 0.3), 0 1px 3px 1px rgba(60, 64, 67, 0.15);\n",
              "    fill: var(--button-hover-fill-color);\n",
              "  }\n",
              "\n",
              "  .colab-df-quickchart-complete:disabled,\n",
              "  .colab-df-quickchart-complete:disabled:hover {\n",
              "    background-color: var(--disabled-bg-color);\n",
              "    fill: var(--disabled-fill-color);\n",
              "    box-shadow: none;\n",
              "  }\n",
              "\n",
              "  .colab-df-spinner {\n",
              "    border: 2px solid var(--fill-color);\n",
              "    border-color: transparent;\n",
              "    border-bottom-color: var(--fill-color);\n",
              "    animation:\n",
              "      spin 1s steps(1) infinite;\n",
              "  }\n",
              "\n",
              "  @keyframes spin {\n",
              "    0% {\n",
              "      border-color: transparent;\n",
              "      border-bottom-color: var(--fill-color);\n",
              "      border-left-color: var(--fill-color);\n",
              "    }\n",
              "    20% {\n",
              "      border-color: transparent;\n",
              "      border-left-color: var(--fill-color);\n",
              "      border-top-color: var(--fill-color);\n",
              "    }\n",
              "    30% {\n",
              "      border-color: transparent;\n",
              "      border-left-color: var(--fill-color);\n",
              "      border-top-color: var(--fill-color);\n",
              "      border-right-color: var(--fill-color);\n",
              "    }\n",
              "    40% {\n",
              "      border-color: transparent;\n",
              "      border-right-color: var(--fill-color);\n",
              "      border-top-color: var(--fill-color);\n",
              "    }\n",
              "    60% {\n",
              "      border-color: transparent;\n",
              "      border-right-color: var(--fill-color);\n",
              "    }\n",
              "    80% {\n",
              "      border-color: transparent;\n",
              "      border-right-color: var(--fill-color);\n",
              "      border-bottom-color: var(--fill-color);\n",
              "    }\n",
              "    90% {\n",
              "      border-color: transparent;\n",
              "      border-bottom-color: var(--fill-color);\n",
              "    }\n",
              "  }\n",
              "</style>\n",
              "\n",
              "      <script>\n",
              "        async function quickchart(key) {\n",
              "          const quickchartButtonEl =\n",
              "            document.querySelector('#' + key + ' button');\n",
              "          quickchartButtonEl.disabled = true;  // To prevent multiple clicks.\n",
              "          quickchartButtonEl.classList.add('colab-df-spinner');\n",
              "          try {\n",
              "            const charts = await google.colab.kernel.invokeFunction(\n",
              "                'suggestCharts', [key], {});\n",
              "          } catch (error) {\n",
              "            console.error('Error during call to suggestCharts:', error);\n",
              "          }\n",
              "          quickchartButtonEl.classList.remove('colab-df-spinner');\n",
              "          quickchartButtonEl.classList.add('colab-df-quickchart-complete');\n",
              "        }\n",
              "        (() => {\n",
              "          let quickchartButtonEl =\n",
              "            document.querySelector('#df-a7bb4c1a-bbea-4e70-8930-87dff7ac0161 button');\n",
              "          quickchartButtonEl.style.display =\n",
              "            google.colab.kernel.accessAllowed ? 'block' : 'none';\n",
              "        })();\n",
              "      </script>\n",
              "    </div>\n",
              "\n",
              "    </div>\n",
              "  </div>\n"
            ],
            "application/vnd.google.colaboratory.intrinsic+json": {
              "type": "dataframe",
              "summary": "{\n  \"name\": \"print(f\\\"Row with lowest mean: {minRowMean}\\\")\",\n  \"rows\": 5,\n  \"fields\": [\n    {\n      \"column\": \"a\",\n      \"properties\": {\n        \"dtype\": \"float32\",\n        \"num_unique_values\": 5,\n        \"samples\": [\n          1.3494489192962646,\n          1.0134716033935547,\n          1.3104491233825684\n        ],\n        \"semantic_type\": \"\",\n        \"description\": \"\"\n      }\n    },\n    {\n      \"column\": \"b\",\n      \"properties\": {\n        \"dtype\": \"float32\",\n        \"num_unique_values\": 5,\n        \"samples\": [\n          1.4839963912963867,\n          1.4776897430419922,\n          1.9205766916275024\n        ],\n        \"semantic_type\": \"\",\n        \"description\": \"\"\n      }\n    },\n    {\n      \"column\": \"c\",\n      \"properties\": {\n        \"dtype\": \"float32\",\n        \"num_unique_values\": 5,\n        \"samples\": [\n          1.9281774759292603,\n          1.904827356338501,\n          1.4722861051559448\n        ],\n        \"semantic_type\": \"\",\n        \"description\": \"\"\n      }\n    },\n    {\n      \"column\": \"d\",\n      \"properties\": {\n        \"dtype\": \"float32\",\n        \"num_unique_values\": 5,\n        \"samples\": [\n          1.4610555171966553,\n          1.0444676876068115,\n          1.7450445890426636\n        ],\n        \"semantic_type\": \"\",\n        \"description\": \"\"\n      }\n    },\n    {\n      \"column\": \"e\",\n      \"properties\": {\n        \"dtype\": \"float32\",\n        \"num_unique_values\": 5,\n        \"samples\": [\n          1.9459867477416992,\n          1.0678813457489014,\n          1.704953908920288\n        ],\n        \"semantic_type\": \"\",\n        \"description\": \"\"\n      }\n    }\n  ]\n}"
            }
          },
          "metadata": {}
        },
        {
          "output_type": "stream",
          "name": "stdout",
          "text": [
            "Column with highest standard deviation: e\n",
            "Row with lowest mean: 11\n"
          ]
        }
      ]
    },
    {
      "cell_type": "markdown",
      "source": [
        "## Question 11\n",
        "\n",
        "Add a new column to the dataframe called “f” which is the sum of the columns “a”, “b”, “c”, “d”, “e”. Create another column called “g”. The value in the column “g” should be “LT8” if the value in the column “f” is less than 8 and “GT8” otherwise. Find the number of rows in the dataframe where the value in the column “g” is “LT8”. Find the standard deviation of the column “f” for the rows where the value in the column “g” is “LT8” and “GT8” respectively."
      ],
      "metadata": {
        "id": "zy-MkzOIltxH"
      },
      "id": "zy-MkzOIltxH"
    },
    {
      "cell_type": "code",
      "source": [
        "df[\"f\"] = df.sum(axis=1)\n",
        "df[\"g\"] = df[\"f\"].apply(lambda x: \"LT8\" if x < 8 else \"GT8\")\n",
        "\n",
        "print(f\"Number of rows where g is LT8: {len(df[df['g'] == 'LT8'])}\")\n",
        "\n",
        "display(df.head())"
      ],
      "metadata": {
        "colab": {
          "base_uri": "https://localhost:8080/",
          "height": 223
        },
        "id": "WiiCge9_lyqT",
        "outputId": "06ea994e-1c22-4f3e-af33-ea54874ea1c0"
      },
      "id": "WiiCge9_lyqT",
      "execution_count": 19,
      "outputs": [
        {
          "output_type": "stream",
          "name": "stdout",
          "text": [
            "Number of rows where g is LT8: 13\n"
          ]
        },
        {
          "output_type": "display_data",
          "data": {
            "text/plain": [
              "          a         b         c         d         e         f    g\n",
              "0  1.638173  1.795034  1.145265  1.229310  1.423163  7.230944  LT8\n",
              "1  1.349449  1.483996  1.928177  1.461056  1.945987  8.168665  GT8\n",
              "2  1.310449  1.920577  1.472286  1.745045  1.704954  8.153311  GT8\n",
              "3  1.268041  1.145484  1.853906  1.461655  1.237534  6.966620  LT8\n",
              "4  1.013472  1.477690  1.904827  1.044468  1.067881  6.508338  LT8"
            ],
            "text/html": [
              "\n",
              "  <div id=\"df-f302de59-2f06-4ac4-a302-8a46ea0be2eb\" class=\"colab-df-container\">\n",
              "    <div>\n",
              "<style scoped>\n",
              "    .dataframe tbody tr th:only-of-type {\n",
              "        vertical-align: middle;\n",
              "    }\n",
              "\n",
              "    .dataframe tbody tr th {\n",
              "        vertical-align: top;\n",
              "    }\n",
              "\n",
              "    .dataframe thead th {\n",
              "        text-align: right;\n",
              "    }\n",
              "</style>\n",
              "<table border=\"1\" class=\"dataframe\">\n",
              "  <thead>\n",
              "    <tr style=\"text-align: right;\">\n",
              "      <th></th>\n",
              "      <th>a</th>\n",
              "      <th>b</th>\n",
              "      <th>c</th>\n",
              "      <th>d</th>\n",
              "      <th>e</th>\n",
              "      <th>f</th>\n",
              "      <th>g</th>\n",
              "    </tr>\n",
              "  </thead>\n",
              "  <tbody>\n",
              "    <tr>\n",
              "      <th>0</th>\n",
              "      <td>1.638173</td>\n",
              "      <td>1.795034</td>\n",
              "      <td>1.145265</td>\n",
              "      <td>1.229310</td>\n",
              "      <td>1.423163</td>\n",
              "      <td>7.230944</td>\n",
              "      <td>LT8</td>\n",
              "    </tr>\n",
              "    <tr>\n",
              "      <th>1</th>\n",
              "      <td>1.349449</td>\n",
              "      <td>1.483996</td>\n",
              "      <td>1.928177</td>\n",
              "      <td>1.461056</td>\n",
              "      <td>1.945987</td>\n",
              "      <td>8.168665</td>\n",
              "      <td>GT8</td>\n",
              "    </tr>\n",
              "    <tr>\n",
              "      <th>2</th>\n",
              "      <td>1.310449</td>\n",
              "      <td>1.920577</td>\n",
              "      <td>1.472286</td>\n",
              "      <td>1.745045</td>\n",
              "      <td>1.704954</td>\n",
              "      <td>8.153311</td>\n",
              "      <td>GT8</td>\n",
              "    </tr>\n",
              "    <tr>\n",
              "      <th>3</th>\n",
              "      <td>1.268041</td>\n",
              "      <td>1.145484</td>\n",
              "      <td>1.853906</td>\n",
              "      <td>1.461655</td>\n",
              "      <td>1.237534</td>\n",
              "      <td>6.966620</td>\n",
              "      <td>LT8</td>\n",
              "    </tr>\n",
              "    <tr>\n",
              "      <th>4</th>\n",
              "      <td>1.013472</td>\n",
              "      <td>1.477690</td>\n",
              "      <td>1.904827</td>\n",
              "      <td>1.044468</td>\n",
              "      <td>1.067881</td>\n",
              "      <td>6.508338</td>\n",
              "      <td>LT8</td>\n",
              "    </tr>\n",
              "  </tbody>\n",
              "</table>\n",
              "</div>\n",
              "    <div class=\"colab-df-buttons\">\n",
              "\n",
              "  <div class=\"colab-df-container\">\n",
              "    <button class=\"colab-df-convert\" onclick=\"convertToInteractive('df-f302de59-2f06-4ac4-a302-8a46ea0be2eb')\"\n",
              "            title=\"Convert this dataframe to an interactive table.\"\n",
              "            style=\"display:none;\">\n",
              "\n",
              "  <svg xmlns=\"http://www.w3.org/2000/svg\" height=\"24px\" viewBox=\"0 -960 960 960\">\n",
              "    <path d=\"M120-120v-720h720v720H120Zm60-500h600v-160H180v160Zm220 220h160v-160H400v160Zm0 220h160v-160H400v160ZM180-400h160v-160H180v160Zm440 0h160v-160H620v160ZM180-180h160v-160H180v160Zm440 0h160v-160H620v160Z\"/>\n",
              "  </svg>\n",
              "    </button>\n",
              "\n",
              "  <style>\n",
              "    .colab-df-container {\n",
              "      display:flex;\n",
              "      gap: 12px;\n",
              "    }\n",
              "\n",
              "    .colab-df-convert {\n",
              "      background-color: #E8F0FE;\n",
              "      border: none;\n",
              "      border-radius: 50%;\n",
              "      cursor: pointer;\n",
              "      display: none;\n",
              "      fill: #1967D2;\n",
              "      height: 32px;\n",
              "      padding: 0 0 0 0;\n",
              "      width: 32px;\n",
              "    }\n",
              "\n",
              "    .colab-df-convert:hover {\n",
              "      background-color: #E2EBFA;\n",
              "      box-shadow: 0px 1px 2px rgba(60, 64, 67, 0.3), 0px 1px 3px 1px rgba(60, 64, 67, 0.15);\n",
              "      fill: #174EA6;\n",
              "    }\n",
              "\n",
              "    .colab-df-buttons div {\n",
              "      margin-bottom: 4px;\n",
              "    }\n",
              "\n",
              "    [theme=dark] .colab-df-convert {\n",
              "      background-color: #3B4455;\n",
              "      fill: #D2E3FC;\n",
              "    }\n",
              "\n",
              "    [theme=dark] .colab-df-convert:hover {\n",
              "      background-color: #434B5C;\n",
              "      box-shadow: 0px 1px 3px 1px rgba(0, 0, 0, 0.15);\n",
              "      filter: drop-shadow(0px 1px 2px rgba(0, 0, 0, 0.3));\n",
              "      fill: #FFFFFF;\n",
              "    }\n",
              "  </style>\n",
              "\n",
              "    <script>\n",
              "      const buttonEl =\n",
              "        document.querySelector('#df-f302de59-2f06-4ac4-a302-8a46ea0be2eb button.colab-df-convert');\n",
              "      buttonEl.style.display =\n",
              "        google.colab.kernel.accessAllowed ? 'block' : 'none';\n",
              "\n",
              "      async function convertToInteractive(key) {\n",
              "        const element = document.querySelector('#df-f302de59-2f06-4ac4-a302-8a46ea0be2eb');\n",
              "        const dataTable =\n",
              "          await google.colab.kernel.invokeFunction('convertToInteractive',\n",
              "                                                    [key], {});\n",
              "        if (!dataTable) return;\n",
              "\n",
              "        const docLinkHtml = 'Like what you see? Visit the ' +\n",
              "          '<a target=\"_blank\" href=https://colab.research.google.com/notebooks/data_table.ipynb>data table notebook</a>'\n",
              "          + ' to learn more about interactive tables.';\n",
              "        element.innerHTML = '';\n",
              "        dataTable['output_type'] = 'display_data';\n",
              "        await google.colab.output.renderOutput(dataTable, element);\n",
              "        const docLink = document.createElement('div');\n",
              "        docLink.innerHTML = docLinkHtml;\n",
              "        element.appendChild(docLink);\n",
              "      }\n",
              "    </script>\n",
              "  </div>\n",
              "\n",
              "\n",
              "    <div id=\"df-53fd4e72-957f-45a3-8db5-68ba50401895\">\n",
              "      <button class=\"colab-df-quickchart\" onclick=\"quickchart('df-53fd4e72-957f-45a3-8db5-68ba50401895')\"\n",
              "                title=\"Suggest charts\"\n",
              "                style=\"display:none;\">\n",
              "\n",
              "<svg xmlns=\"http://www.w3.org/2000/svg\" height=\"24px\"viewBox=\"0 0 24 24\"\n",
              "     width=\"24px\">\n",
              "    <g>\n",
              "        <path d=\"M19 3H5c-1.1 0-2 .9-2 2v14c0 1.1.9 2 2 2h14c1.1 0 2-.9 2-2V5c0-1.1-.9-2-2-2zM9 17H7v-7h2v7zm4 0h-2V7h2v10zm4 0h-2v-4h2v4z\"/>\n",
              "    </g>\n",
              "</svg>\n",
              "      </button>\n",
              "\n",
              "<style>\n",
              "  .colab-df-quickchart {\n",
              "      --bg-color: #E8F0FE;\n",
              "      --fill-color: #1967D2;\n",
              "      --hover-bg-color: #E2EBFA;\n",
              "      --hover-fill-color: #174EA6;\n",
              "      --disabled-fill-color: #AAA;\n",
              "      --disabled-bg-color: #DDD;\n",
              "  }\n",
              "\n",
              "  [theme=dark] .colab-df-quickchart {\n",
              "      --bg-color: #3B4455;\n",
              "      --fill-color: #D2E3FC;\n",
              "      --hover-bg-color: #434B5C;\n",
              "      --hover-fill-color: #FFFFFF;\n",
              "      --disabled-bg-color: #3B4455;\n",
              "      --disabled-fill-color: #666;\n",
              "  }\n",
              "\n",
              "  .colab-df-quickchart {\n",
              "    background-color: var(--bg-color);\n",
              "    border: none;\n",
              "    border-radius: 50%;\n",
              "    cursor: pointer;\n",
              "    display: none;\n",
              "    fill: var(--fill-color);\n",
              "    height: 32px;\n",
              "    padding: 0;\n",
              "    width: 32px;\n",
              "  }\n",
              "\n",
              "  .colab-df-quickchart:hover {\n",
              "    background-color: var(--hover-bg-color);\n",
              "    box-shadow: 0 1px 2px rgba(60, 64, 67, 0.3), 0 1px 3px 1px rgba(60, 64, 67, 0.15);\n",
              "    fill: var(--button-hover-fill-color);\n",
              "  }\n",
              "\n",
              "  .colab-df-quickchart-complete:disabled,\n",
              "  .colab-df-quickchart-complete:disabled:hover {\n",
              "    background-color: var(--disabled-bg-color);\n",
              "    fill: var(--disabled-fill-color);\n",
              "    box-shadow: none;\n",
              "  }\n",
              "\n",
              "  .colab-df-spinner {\n",
              "    border: 2px solid var(--fill-color);\n",
              "    border-color: transparent;\n",
              "    border-bottom-color: var(--fill-color);\n",
              "    animation:\n",
              "      spin 1s steps(1) infinite;\n",
              "  }\n",
              "\n",
              "  @keyframes spin {\n",
              "    0% {\n",
              "      border-color: transparent;\n",
              "      border-bottom-color: var(--fill-color);\n",
              "      border-left-color: var(--fill-color);\n",
              "    }\n",
              "    20% {\n",
              "      border-color: transparent;\n",
              "      border-left-color: var(--fill-color);\n",
              "      border-top-color: var(--fill-color);\n",
              "    }\n",
              "    30% {\n",
              "      border-color: transparent;\n",
              "      border-left-color: var(--fill-color);\n",
              "      border-top-color: var(--fill-color);\n",
              "      border-right-color: var(--fill-color);\n",
              "    }\n",
              "    40% {\n",
              "      border-color: transparent;\n",
              "      border-right-color: var(--fill-color);\n",
              "      border-top-color: var(--fill-color);\n",
              "    }\n",
              "    60% {\n",
              "      border-color: transparent;\n",
              "      border-right-color: var(--fill-color);\n",
              "    }\n",
              "    80% {\n",
              "      border-color: transparent;\n",
              "      border-right-color: var(--fill-color);\n",
              "      border-bottom-color: var(--fill-color);\n",
              "    }\n",
              "    90% {\n",
              "      border-color: transparent;\n",
              "      border-bottom-color: var(--fill-color);\n",
              "    }\n",
              "  }\n",
              "</style>\n",
              "\n",
              "      <script>\n",
              "        async function quickchart(key) {\n",
              "          const quickchartButtonEl =\n",
              "            document.querySelector('#' + key + ' button');\n",
              "          quickchartButtonEl.disabled = true;  // To prevent multiple clicks.\n",
              "          quickchartButtonEl.classList.add('colab-df-spinner');\n",
              "          try {\n",
              "            const charts = await google.colab.kernel.invokeFunction(\n",
              "                'suggestCharts', [key], {});\n",
              "          } catch (error) {\n",
              "            console.error('Error during call to suggestCharts:', error);\n",
              "          }\n",
              "          quickchartButtonEl.classList.remove('colab-df-spinner');\n",
              "          quickchartButtonEl.classList.add('colab-df-quickchart-complete');\n",
              "        }\n",
              "        (() => {\n",
              "          let quickchartButtonEl =\n",
              "            document.querySelector('#df-53fd4e72-957f-45a3-8db5-68ba50401895 button');\n",
              "          quickchartButtonEl.style.display =\n",
              "            google.colab.kernel.accessAllowed ? 'block' : 'none';\n",
              "        })();\n",
              "      </script>\n",
              "    </div>\n",
              "\n",
              "    </div>\n",
              "  </div>\n"
            ],
            "application/vnd.google.colaboratory.intrinsic+json": {
              "type": "dataframe",
              "summary": "{\n  \"name\": \"display(df\",\n  \"rows\": 5,\n  \"fields\": [\n    {\n      \"column\": \"a\",\n      \"properties\": {\n        \"dtype\": \"float32\",\n        \"num_unique_values\": 5,\n        \"samples\": [\n          1.3494489192962646,\n          1.0134716033935547,\n          1.3104491233825684\n        ],\n        \"semantic_type\": \"\",\n        \"description\": \"\"\n      }\n    },\n    {\n      \"column\": \"b\",\n      \"properties\": {\n        \"dtype\": \"float32\",\n        \"num_unique_values\": 5,\n        \"samples\": [\n          1.4839963912963867,\n          1.4776897430419922,\n          1.9205766916275024\n        ],\n        \"semantic_type\": \"\",\n        \"description\": \"\"\n      }\n    },\n    {\n      \"column\": \"c\",\n      \"properties\": {\n        \"dtype\": \"float32\",\n        \"num_unique_values\": 5,\n        \"samples\": [\n          1.9281774759292603,\n          1.904827356338501,\n          1.4722861051559448\n        ],\n        \"semantic_type\": \"\",\n        \"description\": \"\"\n      }\n    },\n    {\n      \"column\": \"d\",\n      \"properties\": {\n        \"dtype\": \"float32\",\n        \"num_unique_values\": 5,\n        \"samples\": [\n          1.4610555171966553,\n          1.0444676876068115,\n          1.7450445890426636\n        ],\n        \"semantic_type\": \"\",\n        \"description\": \"\"\n      }\n    },\n    {\n      \"column\": \"e\",\n      \"properties\": {\n        \"dtype\": \"float32\",\n        \"num_unique_values\": 5,\n        \"samples\": [\n          1.9459867477416992,\n          1.0678813457489014,\n          1.704953908920288\n        ],\n        \"semantic_type\": \"\",\n        \"description\": \"\"\n      }\n    },\n    {\n      \"column\": \"f\",\n      \"properties\": {\n        \"dtype\": \"float32\",\n        \"num_unique_values\": 5,\n        \"samples\": [\n          8.168664932250977,\n          6.50833797454834,\n          8.153310775756836\n        ],\n        \"semantic_type\": \"\",\n        \"description\": \"\"\n      }\n    },\n    {\n      \"column\": \"g\",\n      \"properties\": {\n        \"dtype\": \"category\",\n        \"num_unique_values\": 2,\n        \"samples\": [\n          \"GT8\",\n          \"LT8\"\n        ],\n        \"semantic_type\": \"\",\n        \"description\": \"\"\n      }\n    }\n  ]\n}"
            }
          },
          "metadata": {}
        }
      ]
    },
    {
      "cell_type": "markdown",
      "source": [
        "## Question 12\n",
        "\n",
        "Write a small piece of code to explain broadcasting in numpy."
      ],
      "metadata": {
        "id": "8KaLlM3emjwK"
      },
      "id": "8KaLlM3emjwK"
    },
    {
      "cell_type": "markdown",
      "source": [
        "Broadcasting allows us to perform arithmetic operations on numpy arrays without reshaping it. It automatically adjusts the smaller array to match the larger array's shape by replicating its values along the necessary dimensions."
      ],
      "metadata": {
        "id": "q1GdeESOoChz"
      },
      "id": "q1GdeESOoChz"
    },
    {
      "cell_type": "code",
      "source": [
        "arr1 = np.array([[1, 2, 3, 4, 5]])\n",
        "arr2 = np.array([[1], [2], [3], [4]])\n",
        "\n",
        "res = arr1 + arr2\n",
        "\n",
        "print(\"Array 1:\")\n",
        "display(arr1)\n",
        "print(\"\\n\")\n",
        "print(\"Array 2:\")\n",
        "display(arr2)\n",
        "print(\"\\n\")\n",
        "print(\"Addition Result:\")\n",
        "display(res)\n",
        "print(\"\\n\")\n",
        "\n",
        "print(f\"Array 1 Shape: {arr1.shape}\")\n",
        "print(f\"Array 2 Shape: {arr2.shape}\")\n",
        "print(f\"Addition Result Shape: {res.shape}\")"
      ],
      "metadata": {
        "colab": {
          "base_uri": "https://localhost:8080/",
          "height": 381
        },
        "id": "t2_JBAjToEDV",
        "outputId": "72a2dc2c-b5fe-4eda-9a5c-ee666ec01175"
      },
      "id": "t2_JBAjToEDV",
      "execution_count": 23,
      "outputs": [
        {
          "output_type": "stream",
          "name": "stdout",
          "text": [
            "Array 1:\n"
          ]
        },
        {
          "output_type": "display_data",
          "data": {
            "text/plain": [
              "array([[1, 2, 3, 4, 5]])"
            ]
          },
          "metadata": {}
        },
        {
          "output_type": "stream",
          "name": "stdout",
          "text": [
            "\n",
            "\n",
            "Array 2:\n"
          ]
        },
        {
          "output_type": "display_data",
          "data": {
            "text/plain": [
              "array([[1],\n",
              "       [2],\n",
              "       [3],\n",
              "       [4]])"
            ]
          },
          "metadata": {}
        },
        {
          "output_type": "stream",
          "name": "stdout",
          "text": [
            "\n",
            "\n",
            "Addition Result:\n"
          ]
        },
        {
          "output_type": "display_data",
          "data": {
            "text/plain": [
              "array([[2, 3, 4, 5, 6],\n",
              "       [3, 4, 5, 6, 7],\n",
              "       [4, 5, 6, 7, 8],\n",
              "       [5, 6, 7, 8, 9]])"
            ]
          },
          "metadata": {}
        },
        {
          "output_type": "stream",
          "name": "stdout",
          "text": [
            "\n",
            "\n",
            "Array 1 Shape: (1, 5)\n",
            "Array 2 Shape: (4, 1)\n",
            "Addition Result Shape: (4, 5)\n"
          ]
        }
      ]
    },
    {
      "cell_type": "markdown",
      "source": [
        "## Question 13\n",
        "Write a function to compute the argmin of a numpy array. The function should take a numpy array as input and return the index of the minimum element. You can use the np.argmin function to verify your solution."
      ],
      "metadata": {
        "id": "tgPvnuuvqfXx"
      },
      "id": "tgPvnuuvqfXx"
    },
    {
      "cell_type": "code",
      "source": [
        "def customArgmin(arr):\n",
        "  n = len(arr)\n",
        "  if(n == 0):\n",
        "    return -1\n",
        "\n",
        "  minIndex = 0\n",
        "  minValue = arr[0]\n",
        "  for i in range(1, n):\n",
        "    if arr[i] < minValue:\n",
        "      minValue = arr[i]\n",
        "      minIndex = i\n",
        "  return minIndex\n",
        "\n",
        "arr = np.array([4, 2, 7, 1, 3])\n",
        "print(f\"Custom Argmin Function Value: {customArgmin(arr)}\")\n",
        "print(f\"Numpy Argmin Function Value: {np.argmin(arr)}\")"
      ],
      "metadata": {
        "colab": {
          "base_uri": "https://localhost:8080/"
        },
        "id": "MthD_R9Zqhjv",
        "outputId": "7152178e-bfe6-42ef-d122-f502203ad49b"
      },
      "id": "MthD_R9Zqhjv",
      "execution_count": 24,
      "outputs": [
        {
          "output_type": "stream",
          "name": "stdout",
          "text": [
            "Custom Argmin Function Value: 3\n",
            "Numpy Argmin Function Value: 3\n"
          ]
        }
      ]
    }
  ],
  "metadata": {
    "kernelspec": {
      "display_name": "Python 3",
      "language": "python",
      "name": "python3"
    },
    "language_info": {
      "codemirror_mode": {
        "name": "ipython",
        "version": 3
      },
      "file_extension": ".py",
      "mimetype": "text/x-python",
      "name": "python",
      "nbconvert_exporter": "python",
      "pygments_lexer": "ipython3",
      "version": "3.12.4"
    },
    "colab": {
      "provenance": []
    }
  },
  "nbformat": 4,
  "nbformat_minor": 5
}